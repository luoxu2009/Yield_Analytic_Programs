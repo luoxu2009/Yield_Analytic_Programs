{
 "cells": [
  {
   "cell_type": "code",
   "execution_count": 1,
   "metadata": {},
   "outputs": [],
   "source": [
    "##importing the needed libraries for data analysis.\n",
    "import warnings\n",
    "warnings.filterwarnings('ignore')\n",
    "import pandas as pd\n",
    "import numpy as np\n",
    "import matplotlib.pyplot as plt\n",
    "import os\n",
    "import time"
   ]
  },
  {
   "cell_type": "code",
   "execution_count": 2,
   "metadata": {},
   "outputs": [
    {
     "name": "stdout",
     "output_type": "stream",
     "text": [
      "What is the Part Name (e.g. ZM045)?\n",
      "ZM045\n",
      "Please put in the start date in format mm-dd-yy:\n",
      "03-01-19\n",
      "Please put in the end date in format mm-dd-yy:\n",
      "03-13-19\n"
     ]
    }
   ],
   "source": [
    "## getting inputs from user for 1) Part name; 2) start and end dates\n",
    "Part_Name=input(\"What is the Part Name (e.g. ZM045)?\\n\")\n",
    "Start_date=input(\"Please put in the start date in format mm-dd-yy:\\n\")\n",
    "End_date=input(\"Please put in the end date in format mm-dd-yy:\\n\")"
   ]
  },
  {
   "cell_type": "code",
   "execution_count": 3,
   "metadata": {},
   "outputs": [],
   "source": [
    "##file path for folder containing the wafer level yield summary reports for all products & all lots\n",
    "File_Path=\"//nbpdata01/data2/Test Operations/Data/Conexant/_LotSummaries/\""
   ]
  },
  {
   "cell_type": "code",
   "execution_count": 4,
   "metadata": {},
   "outputs": [],
   "source": [
    "## list all files under File_Path\n",
    "folderfiles=os.listdir(File_Path)"
   ]
  },
  {
   "cell_type": "code",
   "execution_count": 5,
   "metadata": {},
   "outputs": [],
   "source": [
    "## select files only with a specific Part\n",
    "selected_files=list(filter(lambda x: x.startswith(Part_Name), folderfiles))"
   ]
  },
  {
   "cell_type": "code",
   "execution_count": 6,
   "metadata": {},
   "outputs": [],
   "source": [
    "##function to grab the last modified time of files.\n",
    "def get_modification_time(file):\n",
    "    t=os.path.getmtime(file)\n",
    "    return time.ctime(t)"
   ]
  },
  {
   "cell_type": "code",
   "execution_count": 7,
   "metadata": {},
   "outputs": [],
   "source": [
    "# Store the last modified time of selected files in Mod_time\n",
    "Mod_time=[]\n",
    "\n",
    "for file in selected_files:\n",
    "    Mod_time.append(get_modification_time(File_Path+file))\n"
   ]
  },
  {
   "cell_type": "code",
   "execution_count": 8,
   "metadata": {},
   "outputs": [],
   "source": [
    "## Create DataFrame with filename and Mod_time, filter to specified date range, store in DataFrame Files_of_interest\n",
    "File_df=pd.DataFrame({'filename':selected_files,'Mod_time':Mod_time})\n",
    "File_df['Mod_time']=pd.to_datetime(File_df['Mod_time'])\n",
    "Files_of_interest=File_df[(File_df['Mod_time']>pd.to_datetime(Start_date)) & (File_df['Mod_time']<pd.to_datetime(End_date)) ]\n",
    "Files_of_interest.reset_index(drop=True, inplace=True)"
   ]
  },
  {
   "cell_type": "code",
   "execution_count": 9,
   "metadata": {},
   "outputs": [],
   "source": [
    "#Read the 1st lot yield data into df1\n",
    "df1=pd.read_table(File_Path+Files_of_interest['filename'][0])"
   ]
  },
  {
   "cell_type": "code",
   "execution_count": 10,
   "metadata": {},
   "outputs": [],
   "source": [
    "#Loop through the rest of lots in the list, i.e. Files_of_interest, append to df1.\n",
    "for file in Files_of_interest['filename'][1:]:\n",
    "    df1=pd.concat((df1, pd.read_table(File_Path+file)))"
   ]
  },
  {
   "cell_type": "code",
   "execution_count": 11,
   "metadata": {},
   "outputs": [],
   "source": [
    "# strip spaces from column names\n",
    "df1.columns=df1.columns.str.strip()"
   ]
  },
  {
   "cell_type": "code",
   "execution_count": 12,
   "metadata": {},
   "outputs": [],
   "source": [
    "df1['Part']=df1['Rev'].apply(lambda x: x.split('_')[0])"
   ]
  },
  {
   "cell_type": "code",
   "execution_count": 13,
   "metadata": {},
   "outputs": [],
   "source": [
    "#Create output df: Out_df\n",
    "Out_df=df1[['Part','Lot','Wafer','Yield','Date','Time']]"
   ]
  },
  {
   "cell_type": "code",
   "execution_count": 14,
   "metadata": {},
   "outputs": [],
   "source": [
    "Out_df['Probe_date']=pd.to_datetime('2019 '+ Out_df['Date'].str[:3]+' '+Out_df['Date'].str[3:]+' '+Out_df['Time'])\n",
    "Out_df=Out_df[['Part','Lot','Wafer','Yield','Probe_date']]"
   ]
  },
  {
   "cell_type": "code",
   "execution_count": 15,
   "metadata": {},
   "outputs": [],
   "source": [
    "Out_df.sort_values(by=['Probe_date'], ascending=False, inplace=True)"
   ]
  },
  {
   "cell_type": "code",
   "execution_count": 16,
   "metadata": {},
   "outputs": [],
   "source": [
    "Out_df.reset_index(drop=True, inplace=True)"
   ]
  },
  {
   "cell_type": "code",
   "execution_count": 17,
   "metadata": {},
   "outputs": [],
   "source": [
    "#Make dir: C:/Yield_data if not exist\n",
    "if not os.path.exists('C:/Yield_data'):\n",
    "    os.makedirs('C:/Yield_data')"
   ]
  },
  {
   "cell_type": "code",
   "execution_count": 18,
   "metadata": {},
   "outputs": [],
   "source": [
    "#Output Out_df as excel spreadsheet at C:/Yield Data with Part_Name_Start_data(month, day)_End_date(month,day) as file name.\n",
    "Out_df.to_excel('C:/Yield_data/'+Part_Name+'_'+Start_date[:5]+'_to_'+End_date[:5]+'.xlsx')"
   ]
  }
 ],
 "metadata": {
  "kernelspec": {
   "display_name": "Python 3",
   "language": "python",
   "name": "python3"
  },
  "language_info": {
   "codemirror_mode": {
    "name": "ipython",
    "version": 3
   },
   "file_extension": ".py",
   "mimetype": "text/x-python",
   "name": "python",
   "nbconvert_exporter": "python",
   "pygments_lexer": "ipython3",
   "version": "3.7.1"
  }
 },
 "nbformat": 4,
 "nbformat_minor": 2
}
